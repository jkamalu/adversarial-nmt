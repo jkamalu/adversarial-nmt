{
 "cells": [
  {
   "cell_type": "markdown",
   "metadata": {},
   "source": [
    "### Setting up a basic training loop - not using attention"
   ]
  },
  {
   "cell_type": "code",
   "execution_count": null,
   "metadata": {},
   "outputs": [],
   "source": [
    "''' Changing directories '''\n",
    "import os \n",
    "if 'BERT' not in os.getcwd():\n",
    "    os.chdir('BERT')\n",
    "print(\"Current working dir is {}\".format(os.getcwd()))"
   ]
  },
  {
   "cell_type": "code",
   "execution_count": null,
   "metadata": {},
   "outputs": [],
   "source": [
    "import pyaml\n",
    "import onmt\n",
    "import torch\n",
    "from dataset import TextDataset\n",
    "from encoder import Encoder \n",
    "from lib.huggingface.transformers import RobertaTokenizer, CamembertTokenizer\n",
    "from torch.utils.data import DataLoader"
   ]
  },
  {
   "cell_type": "code",
   "execution_count": null,
   "metadata": {},
   "outputs": [],
   "source": [
    "%load_ext autoreload\n",
    "%autoreload 2"
   ]
  },
  {
   "cell_type": "code",
   "execution_count": null,
   "metadata": {},
   "outputs": [],
   "source": [
    "with open(os.path.join(os.path.dirname(os.getcwd()), \"config\", \"config.yml\"), \"r\") as fd:\n",
    "    config = pyaml.yaml.load(fd, Loader=pyaml.yaml.Loader)"
   ]
  },
  {
   "cell_type": "code",
   "execution_count": null,
   "metadata": {},
   "outputs": [],
   "source": [
    "euro_parl_dataset = 'data/data-30k-default/' # specifying the dataset that we want to use"
   ]
  },
  {
   "cell_type": "code",
   "execution_count": null,
   "metadata": {},
   "outputs": [],
   "source": [
    "text_dataset = TextDataset(euro_parl_dataset, is_train=True)"
   ]
  },
  {
   "cell_type": "code",
   "execution_count": null,
   "metadata": {},
   "outputs": [],
   "source": [
    "english_tokenizer = RobertaTokenizer.from_pretrained('roberta-base')\n",
    "french_tokenizer = CamembertTokenizer.from_pretrained('camembert-base')"
   ]
  },
  {
   "cell_type": "code",
   "execution_count": null,
   "metadata": {},
   "outputs": [],
   "source": [
    "def collate(data): \n",
    "    '''Collating function to be passed into the dataloader '''\n",
    "    input_sentences, output_sentences = zip(*data)\n",
    "    input_lengths = [len(sentence)+2 for sentence in input_sentences]\n",
    "    output_lengths = [len(sentence)+2 for sentence in output_sentences]\n",
    "    \n",
    "    batch_size = len(input_sentences)\n",
    "    \n",
    "    max_input_lengths = max(input_lengths)\n",
    "    max_output_lengths = max(output_lengths)\n",
    "    \n",
    "    input_idx_tensor = torch.zeros((batch_size, max_input_lengths), dtype=torch.long)\n",
    "    output_idx_tensor = torch.zeros((batch_size, max_output_lengths), dtype=torch.long)\n",
    "    \n",
    "    for idx, (sentence_len, input_sentence) in enumerate(zip(input_lengths, input_sentences)): \n",
    "        input_idx_tensor[idx, :] = torch.tensor(english_tokenizer.encode(input_sentence) + [1]*(max_input_lengths-sentence_len))\n",
    "\n",
    "    \n",
    "    for idx, (sentence_len, output_sentence) in enumerate(zip(output_lengths, output_sentences)): \n",
    "        output_idx_tensor[idx, :] = torch.tensor(french_tokenizer.encode(output_sentence) + [1]*(max_output_lengths-sentence_len))\n",
    "\n",
    "    return (input_idx_tensor, output_idx_tensor)"
   ]
  },
  {
   "cell_type": "code",
   "execution_count": null,
   "metadata": {},
   "outputs": [],
   "source": [
    "dataloader = DataLoader(text_dataset, batch_size=64,\n",
    "                        shuffle=True, num_workers=4, collate_fn=collate)"
   ]
  },
  {
   "cell_type": "code",
   "execution_count": null,
   "metadata": {},
   "outputs": [],
   "source": [
    "try:\n",
    "    del english_encoder\n",
    "except:\n",
    "    pass "
   ]
  },
  {
   "cell_type": "markdown",
   "metadata": {},
   "source": [
    "#### Specifying the encoding and decoding models"
   ]
  },
  {
   "cell_type": "code",
   "execution_count": null,
   "metadata": {},
   "outputs": [],
   "source": [
    "english_encoder = Encoder(\"english\")\n",
    "french_encoder = Encoder(\"french\")"
   ]
  },
  {
   "cell_type": "code",
   "execution_count": null,
   "metadata": {},
   "outputs": [],
   "source": [
    "print(english_encoder._modules['model'].embeddings)"
   ]
  },
  {
   "cell_type": "code",
   "execution_count": null,
   "metadata": {},
   "outputs": [],
   "source": [
    "embeddings_fr = onmt.modules.embeddings(self, word_vec_size,\n",
    "                 word_vocab_size,\n",
    "                 word_padding_idx,\n",
    "                 position_encoding=True):"
   ]
  },
  {
   "cell_type": "code",
   "execution_count": null,
   "metadata": {},
   "outputs": [],
   "source": [
    "french_decoder = onmt.decoder.TransformerDecoder(**config[\"small_transformer\"])  \n",
    "english_decoder = onmt.decoder.TransformerDecoder(**config[\"small_transformer\"])  "
   ]
  },
  {
   "cell_type": "code",
   "execution_count": null,
   "metadata": {},
   "outputs": [],
   "source": [
    "def loss_fn(encoder_output_english, encoder_output_french, decoder_output_french, decoder_output_english):\n",
    "    '''Adversarial Loss'''\n",
    "    return None "
   ]
  },
  {
   "cell_type": "code",
   "execution_count": null,
   "metadata": {},
   "outputs": [],
   "source": [
    "def train(encoder_model, decoder_model, data_iter): \n",
    "    optimizer = optim.SGD(model.parameters(), lr=0.01, momentum=0.9)\n",
    "    \n",
    "    for batch in data_iter:\n",
    "        optimizer.zero_grad()\n",
    "        english_sentences, french_sentences = batch\n",
    "        \n",
    "        # using the pooled output \n",
    "        _, encoder_output_english = encoder_model(english_sentences)\n",
    "        #_, encoder_output_french = encoder_model(french_sentences)\n",
    "        \n",
    "        \n",
    "        #loss = loss_fn(output, target)\n",
    "        #loss.backward()\n",
    "        #optimizer.step()\n",
    "\n",
    "        return"
   ]
  },
  {
   "cell_type": "code",
   "execution_count": null,
   "metadata": {},
   "outputs": [],
   "source": [
    "train(english_encoder, None, dataloader)"
   ]
  }
 ],
 "metadata": {
  "kernelspec": {
   "display_name": "Python 3",
   "language": "python",
   "name": "python3"
  },
  "language_info": {
   "codemirror_mode": {
    "name": "ipython",
    "version": 3
   },
   "file_extension": ".py",
   "mimetype": "text/x-python",
   "name": "python",
   "nbconvert_exporter": "python",
   "pygments_lexer": "ipython3",
   "version": "3.7.5"
  }
 },
 "nbformat": 4,
 "nbformat_minor": 2
}
