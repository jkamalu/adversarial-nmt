{
 "cells": [
  {
   "cell_type": "markdown",
   "metadata": {},
   "source": [
    "### Setting up a basic training loop - not using attention"
   ]
  },
  {
   "cell_type": "code",
   "execution_count": null,
   "metadata": {},
   "outputs": [],
   "source": [
    "''' Changing directories '''\n",
    "import os \n",
    "if 'BERT' not in os.getcwd():\n",
    "    os.chdir('BERT')\n",
    "print(\"Current working dir is {}\".format(os.getcwd()))"
   ]
  },
  {
   "cell_type": "code",
   "execution_count": null,
   "metadata": {},
   "outputs": [],
   "source": [
    "import pyaml\n",
    "import onmt\n",
    "import torch\n",
    "from dataset import TextDataset\n",
    "from encoder import Encoder \n",
    "from lib.huggingface.transformers import RobertaTokenizer, CamembertTokenizer\n",
    "from torch.utils.data import DataLoader"
   ]
  },
  {
   "cell_type": "code",
   "execution_count": null,
   "metadata": {},
   "outputs": [],
   "source": [
    "%load_ext autoreload\n",
    "%autoreload 2"
   ]
  },
  {
   "cell_type": "code",
   "execution_count": null,
   "metadata": {},
   "outputs": [],
   "source": [
    "with open(os.path.join(os.path.dirname(os.getcwd()), \"config\", \"config.yml\"), \"r\") as fd:\n",
    "    config = pyaml.yaml.load(fd, Loader=pyaml.yaml.Loader)"
   ]
  },
  {
   "cell_type": "code",
   "execution_count": null,
   "metadata": {},
   "outputs": [],
   "source": [
    "text_dataset = TextDataset(\"data/data-30k-default/\", is_train=True)"
   ]
  },
  {
   "cell_type": "code",
   "execution_count": null,
   "metadata": {},
   "outputs": [],
   "source": [
    "tokenizer_en = RobertaTokenizer.from_pretrained('roberta-base')\n",
    "tokenizer_fr = CamembertTokenizer.from_pretrained('camembert-base')"
   ]
  },
  {
   "cell_type": "code",
   "execution_count": null,
   "metadata": {},
   "outputs": [],
   "source": [
    "def collate(data): \n",
    "    '''Collating function to be passed into the dataloader '''\n",
    "    input_sentences, output_sentences = zip(*data)\n",
    "    input_lengths = [len(sentence)+2 for sentence in input_sentences]\n",
    "    output_lengths = [len(sentence)+2 for sentence in output_sentences]\n",
    "    \n",
    "    batch_size = len(input_sentences)\n",
    "    \n",
    "    max_input_lengths = max(input_lengths)\n",
    "    max_output_lengths = max(output_lengths)\n",
    "    \n",
    "    input_idx_tensor = torch.zeros((batch_size, max_input_lengths), dtype=torch.long)\n",
    "    output_idx_tensor = torch.zeros((batch_size, max_output_lengths), dtype=torch.long)\n",
    "    \n",
    "    for idx, (sentence_len, input_sentence) in enumerate(zip(input_lengths, input_sentences)): \n",
    "        input_idx_tensor[idx, :] = torch.tensor(english_tokenizer.encode(input_sentence) + [1]*(max_input_lengths-sentence_len))\n",
    "\n",
    "    \n",
    "    for idx, (sentence_len, output_sentence) in enumerate(zip(output_lengths, output_sentences)): \n",
    "        output_idx_tensor[idx, :] = torch.tensor(french_tokenizer.encode(output_sentence) + [1]*(max_output_lengths-sentence_len))\n",
    "\n",
    "    return (input_idx_tensor, output_idx_tensor)"
   ]
  },
  {
   "cell_type": "code",
   "execution_count": null,
   "metadata": {},
   "outputs": [],
   "source": [
    "dataloader = DataLoader(text_dataset, **config[\"data_loader\"], collate_fn=collate)"
   ]
  },
  {
   "cell_type": "markdown",
   "metadata": {},
   "source": [
    "#### Specifying the encoding and decoding models"
   ]
  },
  {
   "cell_type": "code",
   "execution_count": null,
   "metadata": {},
   "outputs": [],
   "source": [
    "try:\n",
    "    del encoder_en\n",
    "    del encoder_fr\n",
    "except:\n",
    "    pass \n",
    "encoder_en = Encoder(\"english\")\n",
    "encoder_fr = Encoder(\"french\")"
   ]
  },
  {
   "cell_type": "code",
   "execution_count": null,
   "metadata": {},
   "outputs": [],
   "source": [
    "word_padding_idx_en = encoder_en._modules['model'].embeddings.padding_idx\n",
    "word_padding_idx_fr = encoder_fr._modules['model'].embeddings.padding_idx\n",
    "\n",
    "word_vocab_size_en = encoder_en._modules['model'].embeddings.word_embeddings.num_embeddings\n",
    "word_vocab_size_fr = encoder_fr._modules['model'].embeddings.word_embeddings.num_embeddings\n",
    "\n",
    "word_vec_size_en = encoder_en._modules['model'].embeddings.word_embeddings.embedding_dim\n",
    "word_vec_size_fr = encoder_fr._modules['model'].embeddings.word_embeddings.embedding_dim"
   ]
  },
  {
   "cell_type": "code",
   "execution_count": null,
   "metadata": {},
   "outputs": [],
   "source": [
    "embeddings_en = onmt.modules.embeddings.Embeddings(\n",
    "    word_vec_size_en, \n",
    "    word_vocab_size_en, \n",
    "    word_padding_idx_en, \n",
    "    position_encoding=True\n",
    ")\n",
    "\n",
    "embeddings_fr = onmt.modules.embeddings.Embeddings(\n",
    "    word_vec_size_fr, \n",
    "    word_vocab_size_fr, \n",
    "    word_padding_idx_fr, \n",
    "    position_encoding=True\n",
    ")"
   ]
  },
  {
   "cell_type": "code",
   "execution_count": null,
   "metadata": {},
   "outputs": [],
   "source": [
    "decoder_en = onmt.decoders.TransformerDecoder(**config[\"small_transformer\"], embeddings=embeddings_en)  \n",
    "decoder_fr = onmt.decoders.TransformerDecoder(**config[\"small_transformer\"], embeddings=embeddings_fr)"
   ]
  },
  {
   "cell_type": "code",
   "execution_count": null,
   "metadata": {},
   "outputs": [],
   "source": [
    "def loss_fn(encoder_output_english, encoder_output_french, decoder_output_french, decoder_output_english):\n",
    "    '''Adversarial Loss'''\n",
    "    return None "
   ]
  },
  {
   "cell_type": "code",
   "execution_count": null,
   "metadata": {},
   "outputs": [],
   "source": [
    "def train(encoder_model, decoder_model, data_iter): \n",
    "    optimizer = optim.SGD(model.parameters(), lr=0.01, momentum=0.9)\n",
    "    \n",
    "    for batch in data_iter:\n",
    "        optimizer.zero_grad()\n",
    "        english_sentences, french_sentences = batch\n",
    "        \n",
    "        # using the pooled output \n",
    "        _, encoder_output_english = encoder_model(english_sentences)\n",
    "        #_, encoder_output_french = encoder_model(french_sentences)\n",
    "        \n",
    "        \n",
    "        #loss = loss_fn(output, target)\n",
    "        #loss.backward()\n",
    "        #optimizer.step()\n",
    "\n",
    "        return"
   ]
  },
  {
   "cell_type": "code",
   "execution_count": null,
   "metadata": {},
   "outputs": [],
   "source": [
    "train(english_encoder, None, dataloader)"
   ]
  }
 ],
 "metadata": {
  "kernelspec": {
   "display_name": "Python 3",
   "language": "python",
   "name": "python3"
  },
  "language_info": {
   "codemirror_mode": {
    "name": "ipython",
    "version": 3
   },
   "file_extension": ".py",
   "mimetype": "text/x-python",
   "name": "python",
   "nbconvert_exporter": "python",
   "pygments_lexer": "ipython3",
   "version": "3.7.5"
  }
 },
 "nbformat": 4,
 "nbformat_minor": 2
}
