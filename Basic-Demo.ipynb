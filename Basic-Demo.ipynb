{
 "cells": [
  {
   "cell_type": "markdown",
   "metadata": {},
   "source": [
    "### Setting up a basic training loop - not using attention"
   ]
  },
  {
   "cell_type": "code",
   "execution_count": 1,
   "metadata": {},
   "outputs": [
    {
     "name": "stdout",
     "output_type": "stream",
     "text": [
      "Current working dir is /juice/scr/scr110/scr/nlp/mtl_bert/unidirectional-NMT/BERT\n"
     ]
    }
   ],
   "source": [
    "''' Changing directories '''\n",
    "import os \n",
    "if 'BERT' not in os.getcwd():\n",
    "    os.chdir('BERT')\n",
    "print(\"Current working dir is {}\".format(os.getcwd()))"
   ]
  },
  {
   "cell_type": "code",
   "execution_count": 2,
   "metadata": {},
   "outputs": [
    {
     "name": "stderr",
     "output_type": "stream",
     "text": [
      "To use data.metrics please install scikit-learn. See https://scikit-learn.org/stable/index.html\n"
     ]
    }
   ],
   "source": [
    "import pyaml\n",
    "import onmt\n",
    "import torch\n",
    "from dataset import TextDataset\n",
    "from encoder import Encoder \n",
    "#from decoder import AttnDecoderRNN\n",
    "from lib.huggingface.transformers import RobertaTokenizer, CamembertTokenizer\n",
    "from torch.utils.data import DataLoader"
   ]
  },
  {
   "cell_type": "code",
   "execution_count": 3,
   "metadata": {},
   "outputs": [],
   "source": [
    "%load_ext autoreload\n",
    "%autoreload 2"
   ]
  },
  {
   "cell_type": "code",
   "execution_count": 38,
   "metadata": {},
   "outputs": [],
   "source": [
    "with open(os.path.join(os.path.dirname(os.getcwd()), \"config\", \"config.yml\"), \"r\") as fd:\n",
    "    config = pyaml.yaml.load(fd, Loader=pyaml.yaml.Loader)"
   ]
  },
  {
   "cell_type": "code",
   "execution_count": 5,
   "metadata": {},
   "outputs": [
    {
     "name": "stdout",
     "output_type": "stream",
     "text": [
      "Loading data from file: data.train.2.pt\n",
      "Loading data from file: data.train.1.pt\n",
      "Loading data from file: data.train.0.pt\n",
      "removed 11332 examples - not long enough\n"
     ]
    }
   ],
   "source": [
    "text_dataset = TextDataset(\"data/data-30k-default/\", is_train=True)"
   ]
  },
  {
   "cell_type": "code",
   "execution_count": 6,
   "metadata": {},
   "outputs": [],
   "source": [
    "tokenizer_en = RobertaTokenizer.from_pretrained('roberta-base')\n",
    "tokenizer_fr = CamembertTokenizer.from_pretrained('camembert-base')"
   ]
  },
  {
   "cell_type": "code",
   "execution_count": 58,
   "metadata": {},
   "outputs": [],
   "source": [
    "def collate(data): \n",
    "    '''Collating function to be passed into the dataloader '''\n",
    "    input_sentences, output_sentences = zip(*data)\n",
    "    input_lengths = [len(sentence)+2 for sentence in input_sentences]\n",
    "    output_lengths = [len(sentence)+2 for sentence in output_sentences]\n",
    "    \n",
    "    batch_size = len(input_sentences)\n",
    "    \n",
    "    max_input_lengths = max(input_lengths)\n",
    "    max_output_lengths = max(output_lengths)\n",
    "    \n",
    "    max_length = max(max_input_lengths, max_output_lengths)\n",
    "    \n",
    "    input_idx_tensor = torch.zeros((batch_size, max_length), dtype=torch.long)\n",
    "    output_idx_tensor = torch.zeros((batch_size, max_length), dtype=torch.long)\n",
    "    \n",
    "    for idx, (sentence_len, input_sentence) in enumerate(zip(input_lengths, input_sentences)): \n",
    "        input_idx_tensor[idx, :] = torch.tensor(tokenizer_en.encode(input_sentence) + [1]*(max_length-sentence_len))\n",
    "\n",
    "    \n",
    "    for idx, (sentence_len, output_sentence) in enumerate(zip(output_lengths, output_sentences)): \n",
    "        output_idx_tensor[idx, :] = torch.tensor(tokenizer_fr.encode(output_sentence) + [1]*(max_length-sentence_len))\n",
    "\n",
    "    return ((input_idx_tensor, torch.tensor(input_lengths)), (output_idx_tensor, torch.tensor(output_lengths)))"
   ]
  },
  {
   "cell_type": "code",
   "execution_count": 59,
   "metadata": {},
   "outputs": [],
   "source": [
    "dataloader = DataLoader(text_dataset, **config[\"data_loader\"], collate_fn=collate)"
   ]
  },
  {
   "cell_type": "markdown",
   "metadata": {},
   "source": [
    "#### Specifying the encoding and decoding models"
   ]
  },
  {
   "cell_type": "code",
   "execution_count": 9,
   "metadata": {},
   "outputs": [],
   "source": [
    "try:\n",
    "    del encoder_en\n",
    "    del encoder_fr\n",
    "except:\n",
    "    pass \n",
    "encoder_en = Encoder(\"english\")\n",
    "encoder_fr = Encoder(\"french\")"
   ]
  },
  {
   "cell_type": "code",
   "execution_count": 10,
   "metadata": {},
   "outputs": [],
   "source": [
    "word_padding_idx_en = encoder_en._modules['model'].embeddings.padding_idx\n",
    "word_padding_idx_fr = encoder_fr._modules['model'].embeddings.padding_idx\n",
    "\n",
    "word_vocab_size_en = encoder_en._modules['model'].embeddings.word_embeddings.num_embeddings\n",
    "word_vocab_size_fr = encoder_fr._modules['model'].embeddings.word_embeddings.num_embeddings\n",
    "\n",
    "word_vec_size_en = encoder_en._modules['model'].embeddings.word_embeddings.embedding_dim\n",
    "word_vec_size_fr = encoder_fr._modules['model'].embeddings.word_embeddings.embedding_dim"
   ]
  },
  {
   "cell_type": "code",
   "execution_count": 11,
   "metadata": {},
   "outputs": [],
   "source": [
    "embeddings_en = onmt.modules.embeddings.Embeddings(\n",
    "    word_vec_size_en, \n",
    "    word_vocab_size_en, \n",
    "    word_padding_idx_en, \n",
    "    position_encoding=True\n",
    ")\n",
    "\n",
    "embeddings_fr = onmt.modules.embeddings.Embeddings(\n",
    "    word_vec_size_fr, \n",
    "    word_vocab_size_fr, \n",
    "    word_padding_idx_fr, \n",
    "    position_encoding=True\n",
    ")"
   ]
  },
  {
   "cell_type": "code",
   "execution_count": 39,
   "metadata": {},
   "outputs": [],
   "source": [
    "decoder_en = onmt.decoders.TransformerDecoder(**config[\"small_transformer\"], embeddings=embeddings_en)  \n",
    "decoder_fr = onmt.decoders.TransformerDecoder(**config[\"small_transformer\"], embeddings=embeddings_fr)"
   ]
  },
  {
   "cell_type": "markdown",
   "metadata": {},
   "source": [
    "Beginning the training loop"
   ]
  },
  {
   "cell_type": "code",
   "execution_count": 13,
   "metadata": {},
   "outputs": [],
   "source": [
    "from torch import optim"
   ]
  },
  {
   "cell_type": "code",
   "execution_count": null,
   "metadata": {},
   "outputs": [],
   "source": [
    "def loss_fn(encoder_output_english, encoder_output_french, decoder_output_french, decoder_output_english):\n",
    "    '''Adversarial Loss'''\n",
    "    return None "
   ]
  },
  {
   "cell_type": "code",
   "execution_count": 67,
   "metadata": {},
   "outputs": [],
   "source": [
    "def sequence_mask(lengths, max_len=None):\n",
    "    \"\"\"\n",
    "    Creates a boolean mask from sequence lengths.\n",
    "    \"\"\"\n",
    "    batch_size = lengths.numel()\n",
    "    max_len = max_len or lengths.max()\n",
    "    return (torch.arange(0, max_len, device=lengths.device)\n",
    "            .type_as(lengths)\n",
    "            .repeat(batch_size, 1)\n",
    "            .lt(lengths.unsqueeze(1)))"
   ]
  },
  {
   "cell_type": "code",
   "execution_count": 87,
   "metadata": {},
   "outputs": [],
   "source": [
    "def train(encoder_model, decoder_model, data_iter): \n",
    "    optimizer = optim.SGD(encoder_model.parameters(), lr=0.01, momentum=0.9)\n",
    "    \n",
    "    for batch in data_iter:\n",
    "        optimizer.zero_grad()\n",
    "        \n",
    "        (english_sentences, english_sentence_lengths), (french_sentences, french_sentence_lengths) = batch\n",
    "    \n",
    "        encoder_outputs, language_prediction_logits = encoder_model(english_sentences)\n",
    "        \n",
    "        decoder_model.init_state(english_sentences.unsqueeze(2).transpose(0,1), None, None) # french coders suck\n",
    "        \n",
    "        decoder_french = decoder_model(french_sentences.unsqueeze(2).transpose(0,1), encoder_outputs[0].transpose(0,1), memory_lengths=english_sentence_lengths)\n",
    "        print(decoder_french[0].shape)\n",
    "        \n",
    "        \n",
    "        #loss = loss_fn(output, target)\n",
    "        #loss.backward()\n",
    "        #optimizer.step()\n",
    "\n",
    "        return"
   ]
  },
  {
   "cell_type": "code",
   "execution_count": 82,
   "metadata": {},
   "outputs": [
    {
     "data": {
      "text/plain": [
       "TransformerDecoder(\n",
       "  (embeddings): Embeddings(\n",
       "    (make_embedding): Sequential(\n",
       "      (emb_luts): Elementwise(\n",
       "        (0): Embedding(32005, 768, padding_idx=1)\n",
       "      )\n",
       "      (pe): PositionalEncoding(\n",
       "        (dropout): Dropout(p=0, inplace=False)\n",
       "      )\n",
       "    )\n",
       "  )\n",
       "  (transformer_layers): ModuleList(\n",
       "    (0): TransformerDecoderLayer(\n",
       "      (self_attn): MultiHeadedAttention(\n",
       "        (linear_keys): Linear(in_features=768, out_features=768, bias=True)\n",
       "        (linear_values): Linear(in_features=768, out_features=768, bias=True)\n",
       "        (linear_query): Linear(in_features=768, out_features=768, bias=True)\n",
       "        (softmax): Softmax(dim=-1)\n",
       "        (dropout): Dropout(p=0.1, inplace=False)\n",
       "        (final_linear): Linear(in_features=768, out_features=768, bias=True)\n",
       "      )\n",
       "      (context_attn): MultiHeadedAttention(\n",
       "        (linear_keys): Linear(in_features=768, out_features=768, bias=True)\n",
       "        (linear_values): Linear(in_features=768, out_features=768, bias=True)\n",
       "        (linear_query): Linear(in_features=768, out_features=768, bias=True)\n",
       "        (softmax): Softmax(dim=-1)\n",
       "        (dropout): Dropout(p=0.1, inplace=False)\n",
       "        (final_linear): Linear(in_features=768, out_features=768, bias=True)\n",
       "      )\n",
       "      (feed_forward): PositionwiseFeedForward(\n",
       "        (w_1): Linear(in_features=768, out_features=2048, bias=True)\n",
       "        (w_2): Linear(in_features=2048, out_features=768, bias=True)\n",
       "        (layer_norm): LayerNorm((768,), eps=1e-06, elementwise_affine=True)\n",
       "        (dropout_1): Dropout(p=0.1, inplace=False)\n",
       "        (relu): ReLU()\n",
       "        (dropout_2): Dropout(p=0.1, inplace=False)\n",
       "      )\n",
       "      (layer_norm_1): LayerNorm((768,), eps=1e-06, elementwise_affine=True)\n",
       "      (layer_norm_2): LayerNorm((768,), eps=1e-06, elementwise_affine=True)\n",
       "      (drop): Dropout(p=0.1, inplace=False)\n",
       "    )\n",
       "    (1): TransformerDecoderLayer(\n",
       "      (self_attn): MultiHeadedAttention(\n",
       "        (linear_keys): Linear(in_features=768, out_features=768, bias=True)\n",
       "        (linear_values): Linear(in_features=768, out_features=768, bias=True)\n",
       "        (linear_query): Linear(in_features=768, out_features=768, bias=True)\n",
       "        (softmax): Softmax(dim=-1)\n",
       "        (dropout): Dropout(p=0.1, inplace=False)\n",
       "        (final_linear): Linear(in_features=768, out_features=768, bias=True)\n",
       "      )\n",
       "      (context_attn): MultiHeadedAttention(\n",
       "        (linear_keys): Linear(in_features=768, out_features=768, bias=True)\n",
       "        (linear_values): Linear(in_features=768, out_features=768, bias=True)\n",
       "        (linear_query): Linear(in_features=768, out_features=768, bias=True)\n",
       "        (softmax): Softmax(dim=-1)\n",
       "        (dropout): Dropout(p=0.1, inplace=False)\n",
       "        (final_linear): Linear(in_features=768, out_features=768, bias=True)\n",
       "      )\n",
       "      (feed_forward): PositionwiseFeedForward(\n",
       "        (w_1): Linear(in_features=768, out_features=2048, bias=True)\n",
       "        (w_2): Linear(in_features=2048, out_features=768, bias=True)\n",
       "        (layer_norm): LayerNorm((768,), eps=1e-06, elementwise_affine=True)\n",
       "        (dropout_1): Dropout(p=0.1, inplace=False)\n",
       "        (relu): ReLU()\n",
       "        (dropout_2): Dropout(p=0.1, inplace=False)\n",
       "      )\n",
       "      (layer_norm_1): LayerNorm((768,), eps=1e-06, elementwise_affine=True)\n",
       "      (layer_norm_2): LayerNorm((768,), eps=1e-06, elementwise_affine=True)\n",
       "      (drop): Dropout(p=0.1, inplace=False)\n",
       "    )\n",
       "    (2): TransformerDecoderLayer(\n",
       "      (self_attn): MultiHeadedAttention(\n",
       "        (linear_keys): Linear(in_features=768, out_features=768, bias=True)\n",
       "        (linear_values): Linear(in_features=768, out_features=768, bias=True)\n",
       "        (linear_query): Linear(in_features=768, out_features=768, bias=True)\n",
       "        (softmax): Softmax(dim=-1)\n",
       "        (dropout): Dropout(p=0.1, inplace=False)\n",
       "        (final_linear): Linear(in_features=768, out_features=768, bias=True)\n",
       "      )\n",
       "      (context_attn): MultiHeadedAttention(\n",
       "        (linear_keys): Linear(in_features=768, out_features=768, bias=True)\n",
       "        (linear_values): Linear(in_features=768, out_features=768, bias=True)\n",
       "        (linear_query): Linear(in_features=768, out_features=768, bias=True)\n",
       "        (softmax): Softmax(dim=-1)\n",
       "        (dropout): Dropout(p=0.1, inplace=False)\n",
       "        (final_linear): Linear(in_features=768, out_features=768, bias=True)\n",
       "      )\n",
       "      (feed_forward): PositionwiseFeedForward(\n",
       "        (w_1): Linear(in_features=768, out_features=2048, bias=True)\n",
       "        (w_2): Linear(in_features=2048, out_features=768, bias=True)\n",
       "        (layer_norm): LayerNorm((768,), eps=1e-06, elementwise_affine=True)\n",
       "        (dropout_1): Dropout(p=0.1, inplace=False)\n",
       "        (relu): ReLU()\n",
       "        (dropout_2): Dropout(p=0.1, inplace=False)\n",
       "      )\n",
       "      (layer_norm_1): LayerNorm((768,), eps=1e-06, elementwise_affine=True)\n",
       "      (layer_norm_2): LayerNorm((768,), eps=1e-06, elementwise_affine=True)\n",
       "      (drop): Dropout(p=0.1, inplace=False)\n",
       "    )\n",
       "    (3): TransformerDecoderLayer(\n",
       "      (self_attn): MultiHeadedAttention(\n",
       "        (linear_keys): Linear(in_features=768, out_features=768, bias=True)\n",
       "        (linear_values): Linear(in_features=768, out_features=768, bias=True)\n",
       "        (linear_query): Linear(in_features=768, out_features=768, bias=True)\n",
       "        (softmax): Softmax(dim=-1)\n",
       "        (dropout): Dropout(p=0.1, inplace=False)\n",
       "        (final_linear): Linear(in_features=768, out_features=768, bias=True)\n",
       "      )\n",
       "      (context_attn): MultiHeadedAttention(\n",
       "        (linear_keys): Linear(in_features=768, out_features=768, bias=True)\n",
       "        (linear_values): Linear(in_features=768, out_features=768, bias=True)\n",
       "        (linear_query): Linear(in_features=768, out_features=768, bias=True)\n",
       "        (softmax): Softmax(dim=-1)\n",
       "        (dropout): Dropout(p=0.1, inplace=False)\n",
       "        (final_linear): Linear(in_features=768, out_features=768, bias=True)\n",
       "      )\n",
       "      (feed_forward): PositionwiseFeedForward(\n",
       "        (w_1): Linear(in_features=768, out_features=2048, bias=True)\n",
       "        (w_2): Linear(in_features=2048, out_features=768, bias=True)\n",
       "        (layer_norm): LayerNorm((768,), eps=1e-06, elementwise_affine=True)\n",
       "        (dropout_1): Dropout(p=0.1, inplace=False)\n",
       "        (relu): ReLU()\n",
       "        (dropout_2): Dropout(p=0.1, inplace=False)\n",
       "      )\n",
       "      (layer_norm_1): LayerNorm((768,), eps=1e-06, elementwise_affine=True)\n",
       "      (layer_norm_2): LayerNorm((768,), eps=1e-06, elementwise_affine=True)\n",
       "      (drop): Dropout(p=0.1, inplace=False)\n",
       "    )\n",
       "    (4): TransformerDecoderLayer(\n",
       "      (self_attn): MultiHeadedAttention(\n",
       "        (linear_keys): Linear(in_features=768, out_features=768, bias=True)\n",
       "        (linear_values): Linear(in_features=768, out_features=768, bias=True)\n",
       "        (linear_query): Linear(in_features=768, out_features=768, bias=True)\n",
       "        (softmax): Softmax(dim=-1)\n",
       "        (dropout): Dropout(p=0.1, inplace=False)\n",
       "        (final_linear): Linear(in_features=768, out_features=768, bias=True)\n",
       "      )\n",
       "      (context_attn): MultiHeadedAttention(\n",
       "        (linear_keys): Linear(in_features=768, out_features=768, bias=True)\n",
       "        (linear_values): Linear(in_features=768, out_features=768, bias=True)\n",
       "        (linear_query): Linear(in_features=768, out_features=768, bias=True)\n",
       "        (softmax): Softmax(dim=-1)\n",
       "        (dropout): Dropout(p=0.1, inplace=False)\n",
       "        (final_linear): Linear(in_features=768, out_features=768, bias=True)\n",
       "      )\n",
       "      (feed_forward): PositionwiseFeedForward(\n",
       "        (w_1): Linear(in_features=768, out_features=2048, bias=True)\n",
       "        (w_2): Linear(in_features=2048, out_features=768, bias=True)\n",
       "        (layer_norm): LayerNorm((768,), eps=1e-06, elementwise_affine=True)\n",
       "        (dropout_1): Dropout(p=0.1, inplace=False)\n",
       "        (relu): ReLU()\n",
       "        (dropout_2): Dropout(p=0.1, inplace=False)\n",
       "      )\n",
       "      (layer_norm_1): LayerNorm((768,), eps=1e-06, elementwise_affine=True)\n",
       "      (layer_norm_2): LayerNorm((768,), eps=1e-06, elementwise_affine=True)\n",
       "      (drop): Dropout(p=0.1, inplace=False)\n",
       "    )\n",
       "    (5): TransformerDecoderLayer(\n",
       "      (self_attn): MultiHeadedAttention(\n",
       "        (linear_keys): Linear(in_features=768, out_features=768, bias=True)\n",
       "        (linear_values): Linear(in_features=768, out_features=768, bias=True)\n",
       "        (linear_query): Linear(in_features=768, out_features=768, bias=True)\n",
       "        (softmax): Softmax(dim=-1)\n",
       "        (dropout): Dropout(p=0.1, inplace=False)\n",
       "        (final_linear): Linear(in_features=768, out_features=768, bias=True)\n",
       "      )\n",
       "      (context_attn): MultiHeadedAttention(\n",
       "        (linear_keys): Linear(in_features=768, out_features=768, bias=True)\n",
       "        (linear_values): Linear(in_features=768, out_features=768, bias=True)\n",
       "        (linear_query): Linear(in_features=768, out_features=768, bias=True)\n",
       "        (softmax): Softmax(dim=-1)\n",
       "        (dropout): Dropout(p=0.1, inplace=False)\n",
       "        (final_linear): Linear(in_features=768, out_features=768, bias=True)\n",
       "      )\n",
       "      (feed_forward): PositionwiseFeedForward(\n",
       "        (w_1): Linear(in_features=768, out_features=2048, bias=True)\n",
       "        (w_2): Linear(in_features=2048, out_features=768, bias=True)\n",
       "        (layer_norm): LayerNorm((768,), eps=1e-06, elementwise_affine=True)\n",
       "        (dropout_1): Dropout(p=0.1, inplace=False)\n",
       "        (relu): ReLU()\n",
       "        (dropout_2): Dropout(p=0.1, inplace=False)\n",
       "      )\n",
       "      (layer_norm_1): LayerNorm((768,), eps=1e-06, elementwise_affine=True)\n",
       "      (layer_norm_2): LayerNorm((768,), eps=1e-06, elementwise_affine=True)\n",
       "      (drop): Dropout(p=0.1, inplace=False)\n",
       "    )\n",
       "  )\n",
       "  (layer_norm): LayerNorm((768,), eps=1e-06, elementwise_affine=True)\n",
       ")"
      ]
     },
     "execution_count": 82,
     "metadata": {},
     "output_type": "execute_result"
    }
   ],
   "source": [
    "decoder_fr"
   ]
  },
  {
   "cell_type": "code",
   "execution_count": 88,
   "metadata": {
    "scrolled": true
   },
   "outputs": [
    {
     "name": "stdout",
     "output_type": "stream",
     "text": [
      "torch.Size([52, 64, 768])\n"
     ]
    },
    {
     "ename": "AttributeError",
     "evalue": "'tuple' object has no attribute '__dict__'",
     "output_type": "error",
     "traceback": [
      "\u001b[0;31m---------------------------------------------------------------------------\u001b[0m",
      "\u001b[0;31mAttributeError\u001b[0m                            Traceback (most recent call last)",
      "\u001b[0;32m<ipython-input-88-b0908bcf64da>\u001b[0m in \u001b[0;36m<module>\u001b[0;34m\u001b[0m\n\u001b[0;32m----> 1\u001b[0;31m \u001b[0mtrain\u001b[0m\u001b[0;34m(\u001b[0m\u001b[0mencoder_en\u001b[0m\u001b[0;34m,\u001b[0m \u001b[0mdecoder_fr\u001b[0m\u001b[0;34m,\u001b[0m \u001b[0mdataloader\u001b[0m\u001b[0;34m)\u001b[0m\u001b[0;34m\u001b[0m\u001b[0m\n\u001b[0m",
      "\u001b[0;32m<ipython-input-87-1272db88070d>\u001b[0m in \u001b[0;36mtrain\u001b[0;34m(encoder_model, decoder_model, data_iter)\u001b[0m\n\u001b[1;32m     13\u001b[0m         \u001b[0mdecoder_french\u001b[0m \u001b[0;34m=\u001b[0m \u001b[0mdecoder_model\u001b[0m\u001b[0;34m(\u001b[0m\u001b[0mfrench_sentences\u001b[0m\u001b[0;34m.\u001b[0m\u001b[0munsqueeze\u001b[0m\u001b[0;34m(\u001b[0m\u001b[0;36m2\u001b[0m\u001b[0;34m)\u001b[0m\u001b[0;34m.\u001b[0m\u001b[0mtranspose\u001b[0m\u001b[0;34m(\u001b[0m\u001b[0;36m0\u001b[0m\u001b[0;34m,\u001b[0m\u001b[0;36m1\u001b[0m\u001b[0;34m)\u001b[0m\u001b[0;34m,\u001b[0m \u001b[0mencoder_outputs\u001b[0m\u001b[0;34m[\u001b[0m\u001b[0;36m0\u001b[0m\u001b[0;34m]\u001b[0m\u001b[0;34m.\u001b[0m\u001b[0mtranspose\u001b[0m\u001b[0;34m(\u001b[0m\u001b[0;36m0\u001b[0m\u001b[0;34m,\u001b[0m\u001b[0;36m1\u001b[0m\u001b[0;34m)\u001b[0m\u001b[0;34m,\u001b[0m \u001b[0mmemory_lengths\u001b[0m\u001b[0;34m=\u001b[0m\u001b[0menglish_sentence_lengths\u001b[0m\u001b[0;34m)\u001b[0m\u001b[0;34m\u001b[0m\u001b[0m\n\u001b[1;32m     14\u001b[0m         \u001b[0mprint\u001b[0m\u001b[0;34m(\u001b[0m\u001b[0mdecoder_french\u001b[0m\u001b[0;34m[\u001b[0m\u001b[0;36m0\u001b[0m\u001b[0;34m]\u001b[0m\u001b[0;34m.\u001b[0m\u001b[0mshape\u001b[0m\u001b[0;34m)\u001b[0m\u001b[0;34m\u001b[0m\u001b[0m\n\u001b[0;32m---> 15\u001b[0;31m         \u001b[0mprint\u001b[0m\u001b[0;34m(\u001b[0m\u001b[0mdecoder_french\u001b[0m\u001b[0;34m.\u001b[0m\u001b[0m__dict__\u001b[0m\u001b[0;34m)\u001b[0m\u001b[0;34m\u001b[0m\u001b[0m\n\u001b[0m\u001b[1;32m     16\u001b[0m \u001b[0;34m\u001b[0m\u001b[0m\n\u001b[1;32m     17\u001b[0m \u001b[0;34m\u001b[0m\u001b[0m\n",
      "\u001b[0;31mAttributeError\u001b[0m: 'tuple' object has no attribute '__dict__'"
     ]
    }
   ],
   "source": [
    "train(encoder_en, decoder_fr, dataloader)"
   ]
  },
  {
   "cell_type": "code",
   "execution_count": 52,
   "metadata": {},
   "outputs": [
    {
     "data": {
      "text/plain": [
       "Embedding(32005, 768, padding_idx=1)"
      ]
     },
     "execution_count": 52,
     "metadata": {},
     "output_type": "execute_result"
    }
   ],
   "source": [
    "encoder_fr._modules['model'].embeddings.word_embeddings"
   ]
  },
  {
   "cell_type": "code",
   "execution_count": null,
   "metadata": {},
   "outputs": [],
   "source": []
  }
 ],
 "metadata": {
  "kernelspec": {
   "display_name": "Python 3",
   "language": "python",
   "name": "python3"
  },
  "language_info": {
   "codemirror_mode": {
    "name": "ipython",
    "version": 3
   },
   "file_extension": ".py",
   "mimetype": "text/x-python",
   "name": "python",
   "nbconvert_exporter": "python",
   "pygments_lexer": "ipython3",
   "version": "3.5.4"
  }
 },
 "nbformat": 4,
 "nbformat_minor": 2
}
