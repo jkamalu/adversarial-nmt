{
 "cells": [
  {
   "cell_type": "code",
   "execution_count": 22,
   "metadata": {},
   "outputs": [],
   "source": [
    "src_filtered = open(\"src.txt\", \"w+\")\n",
    "tgt_filtered = open(\"tgt.txt\", \"w+\")\n",
    "\n",
    "with open(\"data/europarl-v7/europarl-v7.fr-en.en.val\", \"rt\") as src, open(\"data/europarl-v7/europarl-v7.fr-en.fr.val\", \"rt\") as tgt:\n",
    "    for srcline, tgtline in zip(src, tgt):\n",
    "        \n",
    "        srcline = srcline.strip().split()\n",
    "        tgtline = tgtline.strip().split()\n",
    "        \n",
    "        if len(srcline) <= 50 - 2 and len(tgtline) <= 50 - 2:\n",
    "            srcline = \" \".join(srcline) + \"\\n\"\n",
    "            tgtline = \" \".join(tgtline) + \"\\n\"\n",
    "            src_filtered.write(srcline)\n",
    "            tgt_filtered.write(tgtline)\n",
    "\n",
    "src_filtered.close()\n",
    "tgt_filtered.close()"
   ]
  },
  {
   "cell_type": "code",
   "execution_count": null,
   "metadata": {},
   "outputs": [],
   "source": []
  }
 ],
 "metadata": {
  "kernelspec": {
   "display_name": "Python 3",
   "language": "python",
   "name": "python3"
  },
  "language_info": {
   "codemirror_mode": {
    "name": "ipython",
    "version": 3
   },
   "file_extension": ".py",
   "mimetype": "text/x-python",
   "name": "python",
   "nbconvert_exporter": "python",
   "pygments_lexer": "ipython3",
   "version": "3.7.5"
  }
 },
 "nbformat": 4,
 "nbformat_minor": 2
}
